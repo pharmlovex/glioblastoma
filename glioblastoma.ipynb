{
 "cells": [
  {
   "cell_type": "markdown",
   "id": "5bec06bb-7d1a-48b6-b8bc-add5bbfff07d",
   "metadata": {},
   "source": [
    "# Exploratory RNA-seq data analysis of ASCL1-induced neuronal differentiation in WT and MED25 knockout Glioblastoma Stem Cells"
   ]
  },
  {
   "cell_type": "code",
   "execution_count": 1,
   "id": "9e8fd921-c208-4723-a97d-57f78e095243",
   "metadata": {},
   "outputs": [],
   "source": [
    "# Load library\n",
    "import os\n",
    "import pandas as pd\n",
    "import pickle as pkl\n",
    "\n",
    "from pydeseq2.dds import DeseqDataSet\n",
    "from pydeseq2.ds import DeseqStats"
   ]
  },
  {
   "cell_type": "code",
   "execution_count": null,
   "id": "44ff1ecd-8c99-4def-a246-26d54fb03c8e",
   "metadata": {},
   "outputs": [],
   "source": []
  },
  {
   "cell_type": "code",
   "execution_count": 2,
   "id": "f0d4e082-b7fc-4e4e-bac7-93a3b9198df8",
   "metadata": {},
   "outputs": [],
   "source": [
    "SAVE = False\n",
    "\n",
    "if SAVE:\n",
    "    OUTPUT_PATH = \"../outputfiles\"\n",
    "    os.makedirs(OUTPUT_PATH, exist_ok=True) "
   ]
  },
  {
   "cell_type": "code",
   "execution_count": 3,
   "id": "5296de92-5082-416e-b00e-b7a8d5f77d0d",
   "metadata": {},
   "outputs": [
    {
     "data": {
      "text/html": [
       "<div>\n",
       "<style scoped>\n",
       "    .dataframe tbody tr th:only-of-type {\n",
       "        vertical-align: middle;\n",
       "    }\n",
       "\n",
       "    .dataframe tbody tr th {\n",
       "        vertical-align: top;\n",
       "    }\n",
       "\n",
       "    .dataframe thead th {\n",
       "        text-align: right;\n",
       "    }\n",
       "</style>\n",
       "<table border=\"1\" class=\"dataframe\">\n",
       "  <thead>\n",
       "    <tr style=\"text-align: right;\">\n",
       "      <th></th>\n",
       "      <th>CT_plus_Dox_rep2</th>\n",
       "      <th>CT_plus_Dox_rep3</th>\n",
       "      <th>CT_plus_Dox_rep4</th>\n",
       "      <th>CT_veh_rep1</th>\n",
       "      <th>CT_veh_rep2</th>\n",
       "      <th>CT_veh_rep3</th>\n",
       "      <th>MED25_plus_Dox_rep1</th>\n",
       "      <th>MED25_plus_Dox_rep2</th>\n",
       "      <th>MED25_plus_Dox_rep3</th>\n",
       "      <th>MED25_veh_rep1</th>\n",
       "      <th>MED25_veh_rep2</th>\n",
       "      <th>MED25_veh_rep3</th>\n",
       "    </tr>\n",
       "  </thead>\n",
       "  <tbody>\n",
       "    <tr>\n",
       "      <th>A1BG</th>\n",
       "      <td>187.483526</td>\n",
       "      <td>445.412037</td>\n",
       "      <td>658.816035</td>\n",
       "      <td>357.471830</td>\n",
       "      <td>421.607354</td>\n",
       "      <td>426.938041</td>\n",
       "      <td>281.155362</td>\n",
       "      <td>581.956453</td>\n",
       "      <td>476.809728</td>\n",
       "      <td>259.218225</td>\n",
       "      <td>335.818532</td>\n",
       "      <td>300.316329</td>\n",
       "    </tr>\n",
       "    <tr>\n",
       "      <th>A1CF</th>\n",
       "      <td>5.183608</td>\n",
       "      <td>12.149979</td>\n",
       "      <td>6.055504</td>\n",
       "      <td>13.287506</td>\n",
       "      <td>11.087861</td>\n",
       "      <td>11.277746</td>\n",
       "      <td>3.266033</td>\n",
       "      <td>15.079435</td>\n",
       "      <td>8.686162</td>\n",
       "      <td>13.077169</td>\n",
       "      <td>5.105522</td>\n",
       "      <td>3.044182</td>\n",
       "    </tr>\n",
       "    <tr>\n",
       "      <th>A2M</th>\n",
       "      <td>3.000000</td>\n",
       "      <td>3.000000</td>\n",
       "      <td>9.000000</td>\n",
       "      <td>4.000000</td>\n",
       "      <td>9.000000</td>\n",
       "      <td>10.000000</td>\n",
       "      <td>12.000000</td>\n",
       "      <td>22.875308</td>\n",
       "      <td>8.000000</td>\n",
       "      <td>9.000000</td>\n",
       "      <td>12.000000</td>\n",
       "      <td>9.000000</td>\n",
       "    </tr>\n",
       "    <tr>\n",
       "      <th>A2ML1</th>\n",
       "      <td>11.652511</td>\n",
       "      <td>24.422716</td>\n",
       "      <td>14.172913</td>\n",
       "      <td>20.534418</td>\n",
       "      <td>11.555078</td>\n",
       "      <td>12.671708</td>\n",
       "      <td>14.025858</td>\n",
       "      <td>20.824271</td>\n",
       "      <td>21.303142</td>\n",
       "      <td>11.269898</td>\n",
       "      <td>8.335487</td>\n",
       "      <td>20.899838</td>\n",
       "    </tr>\n",
       "    <tr>\n",
       "      <th>A2MP1</th>\n",
       "      <td>4.000000</td>\n",
       "      <td>5.000000</td>\n",
       "      <td>2.000000</td>\n",
       "      <td>6.000000</td>\n",
       "      <td>2.000000</td>\n",
       "      <td>3.000000</td>\n",
       "      <td>0.000000</td>\n",
       "      <td>6.000000</td>\n",
       "      <td>5.000000</td>\n",
       "      <td>2.000000</td>\n",
       "      <td>2.000000</td>\n",
       "      <td>2.000000</td>\n",
       "    </tr>\n",
       "  </tbody>\n",
       "</table>\n",
       "</div>"
      ],
      "text/plain": [
       "       CT_plus_Dox_rep2  CT_plus_Dox_rep3  CT_plus_Dox_rep4  CT_veh_rep1  \\\n",
       "A1BG         187.483526        445.412037        658.816035   357.471830   \n",
       "A1CF           5.183608         12.149979          6.055504    13.287506   \n",
       "A2M            3.000000          3.000000          9.000000     4.000000   \n",
       "A2ML1         11.652511         24.422716         14.172913    20.534418   \n",
       "A2MP1          4.000000          5.000000          2.000000     6.000000   \n",
       "\n",
       "       CT_veh_rep2  CT_veh_rep3  MED25_plus_Dox_rep1  MED25_plus_Dox_rep2  \\\n",
       "A1BG    421.607354   426.938041           281.155362           581.956453   \n",
       "A1CF     11.087861    11.277746             3.266033            15.079435   \n",
       "A2M       9.000000    10.000000            12.000000            22.875308   \n",
       "A2ML1    11.555078    12.671708            14.025858            20.824271   \n",
       "A2MP1     2.000000     3.000000             0.000000             6.000000   \n",
       "\n",
       "       MED25_plus_Dox_rep3  MED25_veh_rep1  MED25_veh_rep2  MED25_veh_rep3  \n",
       "A1BG            476.809728      259.218225      335.818532      300.316329  \n",
       "A1CF              8.686162       13.077169        5.105522        3.044182  \n",
       "A2M               8.000000        9.000000       12.000000        9.000000  \n",
       "A2ML1            21.303142       11.269898        8.335487       20.899838  \n",
       "A2MP1             5.000000        2.000000        2.000000        2.000000  "
      ]
     },
     "execution_count": 3,
     "metadata": {},
     "output_type": "execute_result"
    }
   ],
   "source": [
    "# Fetch data from the NCBI GEO\n",
    "url = \"https://ftp.ncbi.nlm.nih.gov/geo/series/GSE166nnn/GSE166979/suppl/GSE166979_MED25_RNAseq_counts.txt.txt.gz\"\n",
    "df = pd.read_table(url, index_col=0)\n",
    "df.head()"
   ]
  },
  {
   "cell_type": "code",
   "execution_count": 4,
   "id": "b1d7c5ca-0713-4053-aa77-b45a1fddc976",
   "metadata": {},
   "outputs": [
    {
     "data": {
      "text/plain": [
       "(35010, 12)"
      ]
     },
     "execution_count": 4,
     "metadata": {},
     "output_type": "execute_result"
    }
   ],
   "source": [
    "df.shape"
   ]
  },
  {
   "cell_type": "markdown",
   "id": "b97d51b1-0199-4935-9fc4-1e84347aa475",
   "metadata": {},
   "source": [
    "## Create a clinical data that will used in the PyDESeq2 pipeline"
   ]
  },
  {
   "cell_type": "code",
   "execution_count": 5,
   "id": "12589f5f-fa55-46b3-82ce-9e7885d986b9",
   "metadata": {},
   "outputs": [
    {
     "data": {
      "text/html": [
       "<div>\n",
       "<style scoped>\n",
       "    .dataframe tbody tr th:only-of-type {\n",
       "        vertical-align: middle;\n",
       "    }\n",
       "\n",
       "    .dataframe tbody tr th {\n",
       "        vertical-align: top;\n",
       "    }\n",
       "\n",
       "    .dataframe thead th {\n",
       "        text-align: right;\n",
       "    }\n",
       "</style>\n",
       "<table border=\"1\" class=\"dataframe\">\n",
       "  <thead>\n",
       "    <tr style=\"text-align: right;\">\n",
       "      <th></th>\n",
       "      <th>gRNA</th>\n",
       "      <th>Treatment</th>\n",
       "    </tr>\n",
       "    <tr>\n",
       "      <th>Samples</th>\n",
       "      <th></th>\n",
       "      <th></th>\n",
       "    </tr>\n",
       "  </thead>\n",
       "  <tbody>\n",
       "    <tr>\n",
       "      <th>CT_plus_Dox_rep2</th>\n",
       "      <td>AAVS1</td>\n",
       "      <td>Treated</td>\n",
       "    </tr>\n",
       "    <tr>\n",
       "      <th>CT_plus_Dox_rep3</th>\n",
       "      <td>AAVS1</td>\n",
       "      <td>Treated</td>\n",
       "    </tr>\n",
       "    <tr>\n",
       "      <th>CT_plus_Dox_rep4</th>\n",
       "      <td>AAVS1</td>\n",
       "      <td>Treated</td>\n",
       "    </tr>\n",
       "    <tr>\n",
       "      <th>CT_veh_rep1</th>\n",
       "      <td>AAVS1</td>\n",
       "      <td>untreated</td>\n",
       "    </tr>\n",
       "    <tr>\n",
       "      <th>CT_veh_rep2</th>\n",
       "      <td>AAVS1</td>\n",
       "      <td>untreated</td>\n",
       "    </tr>\n",
       "  </tbody>\n",
       "</table>\n",
       "</div>"
      ],
      "text/plain": [
       "                   gRNA  Treatment\n",
       "Samples                           \n",
       "CT_plus_Dox_rep2  AAVS1    Treated\n",
       "CT_plus_Dox_rep3  AAVS1    Treated\n",
       "CT_plus_Dox_rep4  AAVS1    Treated\n",
       "CT_veh_rep1       AAVS1  untreated\n",
       "CT_veh_rep2       AAVS1  untreated"
      ]
     },
     "execution_count": 5,
     "metadata": {},
     "output_type": "execute_result"
    }
   ],
   "source": [
    "# Get all the column names which represent the samples \n",
    "cols = df.columns.to_list()\n",
    "# Create a datafram with the names \n",
    "phen = pd.DataFrame(cols, columns=[\"Samples\"])\n",
    "# create columns for the gRNA \n",
    "phen[\"gRNA\"] = \"AAVS1\"\n",
    "phen.loc[phen[\"Samples\"].str.contains(\"MED25\"), \"gRNA\"] = \"MED25\"\n",
    "# Create column for the treatemnet groups\n",
    "phen[\"Treatment\"] = \"untreated\"\n",
    "phen.loc[phen[\"Samples\"].str.contains(\"Dox\"), \"Treatment\"] = \"Treated\"\n",
    "#Make the sample columns the dataframe index \n",
    "phen.set_index(phen[\"Samples\"], inplace = True)\n",
    "phen.drop(columns=\"Samples\", inplace = True)\n",
    "phen.head()"
   ]
  },
  {
   "cell_type": "code",
   "execution_count": 6,
   "id": "4ab95ba6-6228-477a-bd81-0c4804ed2a4f",
   "metadata": {},
   "outputs": [],
   "source": [
    "clinical_df = phen.copy()"
   ]
  },
  {
   "cell_type": "markdown",
   "id": "2092c6d4-8be5-480b-b338-aa57cef905c4",
   "metadata": {},
   "source": [
    "## Data Preprocesing \n"
   ]
  },
  {
   "cell_type": "code",
   "execution_count": 7,
   "id": "2021dd33-1646-4b3f-934b-a27e1daeec47",
   "metadata": {},
   "outputs": [],
   "source": [
    "# Filter out genes with very low expression value \n",
    "genes_to_keep = df.sum(axis = 1)>=10\n",
    "count_df = df[genes_to_keep]\n",
    "# remove duplicated index\n",
    "count_df = count_df[~count_df.index.duplicated(keep='first')]\n",
    "\n",
    "counts_df = count_df.T\n",
    "# convert to interger data type\n",
    "counts_df= counts_df.astype(int)"
   ]
  },
  {
   "cell_type": "markdown",
   "id": "4c659deb-d543-40a1-8da3-78eccf7f47f2",
   "metadata": {},
   "source": [
    "# RNASeq data analysis with PyDESeq2 pipeline "
   ]
  },
  {
   "cell_type": "code",
   "execution_count": 8,
   "id": "afc4e552-f9f2-4b22-87b5-41c44228e9de",
   "metadata": {},
   "outputs": [],
   "source": [
    "# In this analysis, both Treatment and gRNA variable will be consider in intantiating the \n",
    "dds = DeseqDataSet(\n",
    "    counts=counts_df,\n",
    "    clinical=clinical_df,\n",
    "    design_factors=[\"Treatment\", \"gRNA\"],\n",
    "    refit_cooks=True,\n",
    "    n_cpus=4,\n",
    ")"
   ]
  },
  {
   "cell_type": "markdown",
   "id": "19f872a3-8bcd-458a-b187-b6a1e46d73e0",
   "metadata": {},
   "source": [
    "### Now that the we have instatiated the DeseqDataset class object, let's run the `deseq2()` method to fit dispersion and LFCs"
   ]
  },
  {
   "cell_type": "code",
   "execution_count": 9,
   "id": "a5fd47d9-41e4-4737-a58f-536f96827f26",
   "metadata": {},
   "outputs": [
    {
     "name": "stdout",
     "output_type": "stream",
     "text": [
      "Fitting size factors...\n",
      "... done in 0.01 seconds.\n",
      "\n",
      "Fitting dispersions...\n",
      "... done in 6.44 seconds.\n",
      "\n",
      "Fitting dispersion trend curve...\n",
      "... done in 5.65 seconds.\n",
      "\n",
      "Fitting MAP dispersions...\n",
      "... done in 7.94 seconds.\n",
      "\n",
      "Fitting LFCs...\n",
      "... done in 4.50 seconds.\n",
      "\n",
      "Refitting 0 outliers.\n",
      "\n"
     ]
    }
   ],
   "source": [
    "dds.deseq2()\n",
    "\n",
    "if SAVE:\n",
    "    with open(os.path.join(OUTPUT_PATH, \"dds.pkl\"), \"wb\") as f:\n",
    "        pkl.dump(dds, f)"
   ]
  },
  {
   "cell_type": "code",
   "execution_count": 10,
   "id": "4a725f90-4103-4427-aea4-4aa4209e7634",
   "metadata": {},
   "outputs": [
    {
     "name": "stdout",
     "output_type": "stream",
     "text": [
      "        intercept  Treatment_untreated_vs_Treated  gRNA_MED25_vs_AAVS1\n",
      "A1BG     6.023428                        0.021332            -0.194434\n",
      "A1CF     2.079973                        0.371150            -0.310551\n",
      "A2M      1.748398                        0.242518             0.553050\n",
      "A2ML1    2.745403                       -0.015711            -0.055307\n",
      "A2MP1    1.350310                       -0.039387            -0.433590\n",
      "...           ...                             ...                  ...\n",
      "ZYG11A   4.744932                        0.015280             0.035230\n",
      "ZYG11B   7.580196                        0.007686             0.114566\n",
      "ZYX      9.354064                        0.267876             0.052663\n",
      "ZZEF1    8.222547                       -0.014845            -0.093233\n",
      "ZZZ3     7.379208                       -0.061532             0.004069\n",
      "\n",
      "[21605 rows x 3 columns]\n"
     ]
    }
   ],
   "source": [
    "print(dds.varm[\"LFC\"])"
   ]
  },
  {
   "cell_type": "markdown",
   "id": "c620d10d-b910-435f-b9a0-8d1d7dca51b5",
   "metadata": {},
   "source": [
    "# Perform multifactor analysis"
   ]
  },
  {
   "cell_type": "markdown",
   "id": "e392b693-94d1-470f-be02-50439dba4235",
   "metadata": {},
   "source": [
    "## Fit the deseq2 method to the object of the DeseqDataSet class "
   ]
  },
  {
   "cell_type": "markdown",
   "id": "4883914b-a83e-4b9b-95e8-8699fe9e17c6",
   "metadata": {},
   "source": [
    "## Statistical analysis with the DeseqStats class\n"
   ]
  },
  {
   "cell_type": "code",
   "execution_count": 11,
   "id": "5c7e243c-06e8-4273-8443-1c0d2122b19f",
   "metadata": {},
   "outputs": [
    {
     "name": "stdout",
     "output_type": "stream",
     "text": [
      "Running Wald tests...\n",
      "... done in 2.29 seconds.\n",
      "\n",
      "Log2 fold change & Wald test p-value: gRNA MED25 vs AAVS1\n"
     ]
    },
    {
     "data": {
      "text/html": [
       "<div>\n",
       "<style scoped>\n",
       "    .dataframe tbody tr th:only-of-type {\n",
       "        vertical-align: middle;\n",
       "    }\n",
       "\n",
       "    .dataframe tbody tr th {\n",
       "        vertical-align: top;\n",
       "    }\n",
       "\n",
       "    .dataframe thead th {\n",
       "        text-align: right;\n",
       "    }\n",
       "</style>\n",
       "<table border=\"1\" class=\"dataframe\">\n",
       "  <thead>\n",
       "    <tr style=\"text-align: right;\">\n",
       "      <th></th>\n",
       "      <th>baseMean</th>\n",
       "      <th>log2FoldChange</th>\n",
       "      <th>lfcSE</th>\n",
       "      <th>stat</th>\n",
       "      <th>pvalue</th>\n",
       "      <th>padj</th>\n",
       "    </tr>\n",
       "  </thead>\n",
       "  <tbody>\n",
       "    <tr>\n",
       "      <th>A1BG</th>\n",
       "      <td>380.457481</td>\n",
       "      <td>-0.280509</td>\n",
       "      <td>0.182983</td>\n",
       "      <td>-1.532977</td>\n",
       "      <td>0.125281</td>\n",
       "      <td>0.444472</td>\n",
       "    </tr>\n",
       "    <tr>\n",
       "      <th>A1CF</th>\n",
       "      <td>8.381029</td>\n",
       "      <td>-0.448030</td>\n",
       "      <td>0.434179</td>\n",
       "      <td>-1.031901</td>\n",
       "      <td>0.302119</td>\n",
       "      <td>0.660663</td>\n",
       "    </tr>\n",
       "    <tr>\n",
       "      <th>A2M</th>\n",
       "      <td>9.000169</td>\n",
       "      <td>0.797882</td>\n",
       "      <td>0.461294</td>\n",
       "      <td>1.729662</td>\n",
       "      <td>0.083691</td>\n",
       "      <td>0.360924</td>\n",
       "    </tr>\n",
       "    <tr>\n",
       "      <th>A2ML1</th>\n",
       "      <td>15.099201</td>\n",
       "      <td>-0.079792</td>\n",
       "      <td>0.325280</td>\n",
       "      <td>-0.245302</td>\n",
       "      <td>0.806223</td>\n",
       "      <td>0.938310</td>\n",
       "    </tr>\n",
       "    <tr>\n",
       "      <th>A2MP1</th>\n",
       "      <td>3.086460</td>\n",
       "      <td>-0.625538</td>\n",
       "      <td>0.688583</td>\n",
       "      <td>-0.908443</td>\n",
       "      <td>0.363644</td>\n",
       "      <td>NaN</td>\n",
       "    </tr>\n",
       "    <tr>\n",
       "      <th>...</th>\n",
       "      <td>...</td>\n",
       "      <td>...</td>\n",
       "      <td>...</td>\n",
       "      <td>...</td>\n",
       "      <td>...</td>\n",
       "      <td>...</td>\n",
       "    </tr>\n",
       "    <tr>\n",
       "      <th>ZYG11A</th>\n",
       "      <td>118.117030</td>\n",
       "      <td>0.050825</td>\n",
       "      <td>0.141555</td>\n",
       "      <td>0.359052</td>\n",
       "      <td>0.719556</td>\n",
       "      <td>0.902442</td>\n",
       "    </tr>\n",
       "    <tr>\n",
       "      <th>ZYG11B</th>\n",
       "      <td>2086.012971</td>\n",
       "      <td>0.165284</td>\n",
       "      <td>0.172340</td>\n",
       "      <td>0.959061</td>\n",
       "      <td>0.337528</td>\n",
       "      <td>0.688304</td>\n",
       "    </tr>\n",
       "    <tr>\n",
       "      <th>ZYX</th>\n",
       "      <td>13671.395901</td>\n",
       "      <td>0.075976</td>\n",
       "      <td>0.187355</td>\n",
       "      <td>0.405520</td>\n",
       "      <td>0.685095</td>\n",
       "      <td>0.890795</td>\n",
       "    </tr>\n",
       "    <tr>\n",
       "      <th>ZZEF1</th>\n",
       "      <td>3532.047782</td>\n",
       "      <td>-0.134507</td>\n",
       "      <td>0.075858</td>\n",
       "      <td>-1.773149</td>\n",
       "      <td>0.076204</td>\n",
       "      <td>0.342475</td>\n",
       "    </tr>\n",
       "    <tr>\n",
       "      <th>ZZZ3</th>\n",
       "      <td>1557.799887</td>\n",
       "      <td>0.005870</td>\n",
       "      <td>0.108318</td>\n",
       "      <td>0.054195</td>\n",
       "      <td>0.956780</td>\n",
       "      <td>0.986318</td>\n",
       "    </tr>\n",
       "  </tbody>\n",
       "</table>\n",
       "<p>21605 rows × 6 columns</p>\n",
       "</div>"
      ],
      "text/plain": [
       "            baseMean  log2FoldChange     lfcSE      stat    pvalue      padj\n",
       "A1BG      380.457481       -0.280509  0.182983 -1.532977  0.125281  0.444472\n",
       "A1CF        8.381029       -0.448030  0.434179 -1.031901  0.302119  0.660663\n",
       "A2M         9.000169        0.797882  0.461294  1.729662  0.083691  0.360924\n",
       "A2ML1      15.099201       -0.079792  0.325280 -0.245302  0.806223  0.938310\n",
       "A2MP1       3.086460       -0.625538  0.688583 -0.908443  0.363644       NaN\n",
       "...              ...             ...       ...       ...       ...       ...\n",
       "ZYG11A    118.117030        0.050825  0.141555  0.359052  0.719556  0.902442\n",
       "ZYG11B   2086.012971        0.165284  0.172340  0.959061  0.337528  0.688304\n",
       "ZYX     13671.395901        0.075976  0.187355  0.405520  0.685095  0.890795\n",
       "ZZEF1    3532.047782       -0.134507  0.075858 -1.773149  0.076204  0.342475\n",
       "ZZZ3     1557.799887        0.005870  0.108318  0.054195  0.956780  0.986318\n",
       "\n",
       "[21605 rows x 6 columns]"
      ]
     },
     "metadata": {},
     "output_type": "display_data"
    }
   ],
   "source": [
    "stat_res_MED25_vs_AAVS1 = DeseqStats(dds, contrast=[\"gRNA\",\"MED25\",\"AAVS1\"], n_cpus=2)\n",
    "stat_res_MED25_vs_AAVS1.summary()\n",
    "wald_test_gRNA = stat_res_MED25_vs_AAVS1.results_df\n"
   ]
  },
  {
   "cell_type": "code",
   "execution_count": 12,
   "id": "465a8241-e749-4a09-817d-d8590c458b01",
   "metadata": {},
   "outputs": [
    {
     "name": "stdout",
     "output_type": "stream",
     "text": [
      "Running Wald tests...\n",
      "... done in 1.90 seconds.\n",
      "\n",
      "Log2 fold change & Wald test p-value: Treatment untreated vs Treated\n"
     ]
    },
    {
     "data": {
      "text/html": [
       "<div>\n",
       "<style scoped>\n",
       "    .dataframe tbody tr th:only-of-type {\n",
       "        vertical-align: middle;\n",
       "    }\n",
       "\n",
       "    .dataframe tbody tr th {\n",
       "        vertical-align: top;\n",
       "    }\n",
       "\n",
       "    .dataframe thead th {\n",
       "        text-align: right;\n",
       "    }\n",
       "</style>\n",
       "<table border=\"1\" class=\"dataframe\">\n",
       "  <thead>\n",
       "    <tr style=\"text-align: right;\">\n",
       "      <th></th>\n",
       "      <th>baseMean</th>\n",
       "      <th>log2FoldChange</th>\n",
       "      <th>lfcSE</th>\n",
       "      <th>stat</th>\n",
       "      <th>pvalue</th>\n",
       "      <th>padj</th>\n",
       "    </tr>\n",
       "  </thead>\n",
       "  <tbody>\n",
       "    <tr>\n",
       "      <th>A1BG</th>\n",
       "      <td>380.457481</td>\n",
       "      <td>0.030776</td>\n",
       "      <td>0.182983</td>\n",
       "      <td>0.168190</td>\n",
       "      <td>0.866434</td>\n",
       "      <td>0.998623</td>\n",
       "    </tr>\n",
       "    <tr>\n",
       "      <th>A1CF</th>\n",
       "      <td>8.381029</td>\n",
       "      <td>0.535457</td>\n",
       "      <td>0.433947</td>\n",
       "      <td>1.233921</td>\n",
       "      <td>0.217232</td>\n",
       "      <td>0.860927</td>\n",
       "    </tr>\n",
       "    <tr>\n",
       "      <th>A2M</th>\n",
       "      <td>9.000169</td>\n",
       "      <td>0.349879</td>\n",
       "      <td>0.457963</td>\n",
       "      <td>0.763990</td>\n",
       "      <td>0.444873</td>\n",
       "      <td>0.975093</td>\n",
       "    </tr>\n",
       "    <tr>\n",
       "      <th>A2ML1</th>\n",
       "      <td>15.099201</td>\n",
       "      <td>-0.022667</td>\n",
       "      <td>0.325593</td>\n",
       "      <td>-0.069616</td>\n",
       "      <td>0.944499</td>\n",
       "      <td>0.998623</td>\n",
       "    </tr>\n",
       "    <tr>\n",
       "      <th>A2MP1</th>\n",
       "      <td>3.086460</td>\n",
       "      <td>-0.056824</td>\n",
       "      <td>0.687157</td>\n",
       "      <td>-0.082694</td>\n",
       "      <td>0.934095</td>\n",
       "      <td>0.998623</td>\n",
       "    </tr>\n",
       "    <tr>\n",
       "      <th>...</th>\n",
       "      <td>...</td>\n",
       "      <td>...</td>\n",
       "      <td>...</td>\n",
       "      <td>...</td>\n",
       "      <td>...</td>\n",
       "      <td>...</td>\n",
       "    </tr>\n",
       "    <tr>\n",
       "      <th>ZYG11A</th>\n",
       "      <td>118.117030</td>\n",
       "      <td>0.022045</td>\n",
       "      <td>0.141575</td>\n",
       "      <td>0.155710</td>\n",
       "      <td>0.876262</td>\n",
       "      <td>0.998623</td>\n",
       "    </tr>\n",
       "    <tr>\n",
       "      <th>ZYG11B</th>\n",
       "      <td>2086.012971</td>\n",
       "      <td>0.011088</td>\n",
       "      <td>0.172340</td>\n",
       "      <td>0.064341</td>\n",
       "      <td>0.948699</td>\n",
       "      <td>0.998623</td>\n",
       "    </tr>\n",
       "    <tr>\n",
       "      <th>ZYX</th>\n",
       "      <td>13671.395901</td>\n",
       "      <td>0.386463</td>\n",
       "      <td>0.187355</td>\n",
       "      <td>2.062734</td>\n",
       "      <td>0.039138</td>\n",
       "      <td>0.431018</td>\n",
       "    </tr>\n",
       "    <tr>\n",
       "      <th>ZZEF1</th>\n",
       "      <td>3532.047782</td>\n",
       "      <td>-0.021416</td>\n",
       "      <td>0.075858</td>\n",
       "      <td>-0.282319</td>\n",
       "      <td>0.777699</td>\n",
       "      <td>0.998623</td>\n",
       "    </tr>\n",
       "    <tr>\n",
       "      <th>ZZZ3</th>\n",
       "      <td>1557.799887</td>\n",
       "      <td>-0.088772</td>\n",
       "      <td>0.108318</td>\n",
       "      <td>-0.819545</td>\n",
       "      <td>0.412476</td>\n",
       "      <td>0.969321</td>\n",
       "    </tr>\n",
       "  </tbody>\n",
       "</table>\n",
       "<p>21605 rows × 6 columns</p>\n",
       "</div>"
      ],
      "text/plain": [
       "            baseMean  log2FoldChange     lfcSE      stat    pvalue      padj\n",
       "A1BG      380.457481        0.030776  0.182983  0.168190  0.866434  0.998623\n",
       "A1CF        8.381029        0.535457  0.433947  1.233921  0.217232  0.860927\n",
       "A2M         9.000169        0.349879  0.457963  0.763990  0.444873  0.975093\n",
       "A2ML1      15.099201       -0.022667  0.325593 -0.069616  0.944499  0.998623\n",
       "A2MP1       3.086460       -0.056824  0.687157 -0.082694  0.934095  0.998623\n",
       "...              ...             ...       ...       ...       ...       ...\n",
       "ZYG11A    118.117030        0.022045  0.141575  0.155710  0.876262  0.998623\n",
       "ZYG11B   2086.012971        0.011088  0.172340  0.064341  0.948699  0.998623\n",
       "ZYX     13671.395901        0.386463  0.187355  2.062734  0.039138  0.431018\n",
       "ZZEF1    3532.047782       -0.021416  0.075858 -0.282319  0.777699  0.998623\n",
       "ZZZ3     1557.799887       -0.088772  0.108318 -0.819545  0.412476  0.969321\n",
       "\n",
       "[21605 rows x 6 columns]"
      ]
     },
     "metadata": {},
     "output_type": "display_data"
    }
   ],
   "source": [
    "stat_res_treat_vs_untreat = DeseqStats(dds, contrast=[\"Treatment\", \"untreated\", \"Treated\"], n_cpus=2)\n",
    "stat_res_treat_vs_untreat.summary()\n"
   ]
  },
  {
   "cell_type": "code",
   "execution_count": 13,
   "id": "f17b22d3-cadb-40e7-a5d8-bad403804d04",
   "metadata": {},
   "outputs": [],
   "source": [
    "wald_test_treat = stat_res_treat_vs_untreat.results_df"
   ]
  },
  {
   "cell_type": "markdown",
   "id": "ece7e0d0-a61c-46c5-a5d0-4163fbb69b20",
   "metadata": {},
   "source": [
    "## LFC shrinkage(multifactor)"
   ]
  },
  {
   "cell_type": "code",
   "execution_count": 14,
   "id": "fe94dd81-d000-4d0e-87b6-56cbb13a3092",
   "metadata": {},
   "outputs": [
    {
     "name": "stdout",
     "output_type": "stream",
     "text": [
      "Fitting MAP LFCs...\n",
      "... done in 14.48 seconds.\n",
      "\n",
      "Shrunk Log2 fold change & Wald test p-value: gRNA MED25 vs AAVS1\n"
     ]
    },
    {
     "data": {
      "text/html": [
       "<div>\n",
       "<style scoped>\n",
       "    .dataframe tbody tr th:only-of-type {\n",
       "        vertical-align: middle;\n",
       "    }\n",
       "\n",
       "    .dataframe tbody tr th {\n",
       "        vertical-align: top;\n",
       "    }\n",
       "\n",
       "    .dataframe thead th {\n",
       "        text-align: right;\n",
       "    }\n",
       "</style>\n",
       "<table border=\"1\" class=\"dataframe\">\n",
       "  <thead>\n",
       "    <tr style=\"text-align: right;\">\n",
       "      <th></th>\n",
       "      <th>baseMean</th>\n",
       "      <th>log2FoldChange</th>\n",
       "      <th>lfcSE</th>\n",
       "      <th>stat</th>\n",
       "      <th>pvalue</th>\n",
       "      <th>padj</th>\n",
       "    </tr>\n",
       "  </thead>\n",
       "  <tbody>\n",
       "    <tr>\n",
       "      <th>A1BG</th>\n",
       "      <td>380.457481</td>\n",
       "      <td>-0.142969</td>\n",
       "      <td>0.166244</td>\n",
       "      <td>-1.532977</td>\n",
       "      <td>0.125281</td>\n",
       "      <td>0.444472</td>\n",
       "    </tr>\n",
       "    <tr>\n",
       "      <th>A1CF</th>\n",
       "      <td>8.381029</td>\n",
       "      <td>-0.054500</td>\n",
       "      <td>0.201013</td>\n",
       "      <td>-1.031901</td>\n",
       "      <td>0.302119</td>\n",
       "      <td>0.660663</td>\n",
       "    </tr>\n",
       "    <tr>\n",
       "      <th>A2M</th>\n",
       "      <td>9.000169</td>\n",
       "      <td>0.095347</td>\n",
       "      <td>0.253452</td>\n",
       "      <td>1.729662</td>\n",
       "      <td>0.083691</td>\n",
       "      <td>0.360924</td>\n",
       "    </tr>\n",
       "    <tr>\n",
       "      <th>A2ML1</th>\n",
       "      <td>15.099201</td>\n",
       "      <td>-0.014937</td>\n",
       "      <td>0.182524</td>\n",
       "      <td>-0.245302</td>\n",
       "      <td>0.806223</td>\n",
       "      <td>0.938310</td>\n",
       "    </tr>\n",
       "    <tr>\n",
       "      <th>A2MP1</th>\n",
       "      <td>3.086460</td>\n",
       "      <td>-0.031586</td>\n",
       "      <td>0.203670</td>\n",
       "      <td>-0.908443</td>\n",
       "      <td>0.363644</td>\n",
       "      <td>NaN</td>\n",
       "    </tr>\n",
       "    <tr>\n",
       "      <th>...</th>\n",
       "      <td>...</td>\n",
       "      <td>...</td>\n",
       "      <td>...</td>\n",
       "      <td>...</td>\n",
       "      <td>...</td>\n",
       "      <td>...</td>\n",
       "    </tr>\n",
       "    <tr>\n",
       "      <th>ZYG11A</th>\n",
       "      <td>118.117030</td>\n",
       "      <td>0.028094</td>\n",
       "      <td>0.121259</td>\n",
       "      <td>0.359052</td>\n",
       "      <td>0.719556</td>\n",
       "      <td>0.902442</td>\n",
       "    </tr>\n",
       "    <tr>\n",
       "      <th>ZYG11B</th>\n",
       "      <td>2086.012971</td>\n",
       "      <td>0.083134</td>\n",
       "      <td>0.149173</td>\n",
       "      <td>0.959061</td>\n",
       "      <td>0.337528</td>\n",
       "      <td>0.688304</td>\n",
       "    </tr>\n",
       "    <tr>\n",
       "      <th>ZYX</th>\n",
       "      <td>13671.395901</td>\n",
       "      <td>-0.016527</td>\n",
       "      <td>0.141456</td>\n",
       "      <td>0.405520</td>\n",
       "      <td>0.685095</td>\n",
       "      <td>0.890795</td>\n",
       "    </tr>\n",
       "    <tr>\n",
       "      <th>ZZEF1</th>\n",
       "      <td>3532.047782</td>\n",
       "      <td>-0.113293</td>\n",
       "      <td>0.073829</td>\n",
       "      <td>-1.773149</td>\n",
       "      <td>0.076204</td>\n",
       "      <td>0.342475</td>\n",
       "    </tr>\n",
       "    <tr>\n",
       "      <th>ZZZ3</th>\n",
       "      <td>1557.799887</td>\n",
       "      <td>0.004467</td>\n",
       "      <td>0.097654</td>\n",
       "      <td>0.054195</td>\n",
       "      <td>0.956780</td>\n",
       "      <td>0.986318</td>\n",
       "    </tr>\n",
       "  </tbody>\n",
       "</table>\n",
       "<p>21605 rows × 6 columns</p>\n",
       "</div>"
      ],
      "text/plain": [
       "            baseMean  log2FoldChange     lfcSE      stat    pvalue      padj\n",
       "A1BG      380.457481       -0.142969  0.166244 -1.532977  0.125281  0.444472\n",
       "A1CF        8.381029       -0.054500  0.201013 -1.031901  0.302119  0.660663\n",
       "A2M         9.000169        0.095347  0.253452  1.729662  0.083691  0.360924\n",
       "A2ML1      15.099201       -0.014937  0.182524 -0.245302  0.806223  0.938310\n",
       "A2MP1       3.086460       -0.031586  0.203670 -0.908443  0.363644       NaN\n",
       "...              ...             ...       ...       ...       ...       ...\n",
       "ZYG11A    118.117030        0.028094  0.121259  0.359052  0.719556  0.902442\n",
       "ZYG11B   2086.012971        0.083134  0.149173  0.959061  0.337528  0.688304\n",
       "ZYX     13671.395901       -0.016527  0.141456  0.405520  0.685095  0.890795\n",
       "ZZEF1    3532.047782       -0.113293  0.073829 -1.773149  0.076204  0.342475\n",
       "ZZZ3     1557.799887        0.004467  0.097654  0.054195  0.956780  0.986318\n",
       "\n",
       "[21605 rows x 6 columns]"
      ]
     },
     "metadata": {},
     "output_type": "display_data"
    }
   ],
   "source": [
    "stat_res_MED25_vs_AAVS1.lfc_shrink(coeff= \"gRNA_MED25_vs_AAVS1\")\n",
    "assert stat_res_MED25_vs_AAVS1.shrunk_LFCs == True"
   ]
  },
  {
   "cell_type": "code",
   "execution_count": 15,
   "id": "a283da53-054b-4617-b845-6ab2cb4e7996",
   "metadata": {},
   "outputs": [
    {
     "name": "stdout",
     "output_type": "stream",
     "text": [
      "Fitting MAP LFCs...\n",
      "... done in 15.36 seconds.\n",
      "\n",
      "Shrunk Log2 fold change & Wald test p-value: Treatment untreated vs Treated\n"
     ]
    },
    {
     "data": {
      "text/html": [
       "<div>\n",
       "<style scoped>\n",
       "    .dataframe tbody tr th:only-of-type {\n",
       "        vertical-align: middle;\n",
       "    }\n",
       "\n",
       "    .dataframe tbody tr th {\n",
       "        vertical-align: top;\n",
       "    }\n",
       "\n",
       "    .dataframe thead th {\n",
       "        text-align: right;\n",
       "    }\n",
       "</style>\n",
       "<table border=\"1\" class=\"dataframe\">\n",
       "  <thead>\n",
       "    <tr style=\"text-align: right;\">\n",
       "      <th></th>\n",
       "      <th>baseMean</th>\n",
       "      <th>log2FoldChange</th>\n",
       "      <th>lfcSE</th>\n",
       "      <th>stat</th>\n",
       "      <th>pvalue</th>\n",
       "      <th>padj</th>\n",
       "    </tr>\n",
       "  </thead>\n",
       "  <tbody>\n",
       "    <tr>\n",
       "      <th>A1BG</th>\n",
       "      <td>380.457481</td>\n",
       "      <td>0.006182</td>\n",
       "      <td>0.105654</td>\n",
       "      <td>0.168190</td>\n",
       "      <td>0.866434</td>\n",
       "      <td>0.998623</td>\n",
       "    </tr>\n",
       "    <tr>\n",
       "      <th>A1CF</th>\n",
       "      <td>8.381029</td>\n",
       "      <td>0.024126</td>\n",
       "      <td>0.129354</td>\n",
       "      <td>1.233921</td>\n",
       "      <td>0.217232</td>\n",
       "      <td>0.860927</td>\n",
       "    </tr>\n",
       "    <tr>\n",
       "      <th>A2M</th>\n",
       "      <td>9.000169</td>\n",
       "      <td>0.013702</td>\n",
       "      <td>0.125487</td>\n",
       "      <td>0.763990</td>\n",
       "      <td>0.444873</td>\n",
       "      <td>0.975093</td>\n",
       "    </tr>\n",
       "    <tr>\n",
       "      <th>A2ML1</th>\n",
       "      <td>15.099201</td>\n",
       "      <td>-0.001690</td>\n",
       "      <td>0.118296</td>\n",
       "      <td>-0.069616</td>\n",
       "      <td>0.944499</td>\n",
       "      <td>0.998623</td>\n",
       "    </tr>\n",
       "    <tr>\n",
       "      <th>A2MP1</th>\n",
       "      <td>3.086460</td>\n",
       "      <td>-0.000995</td>\n",
       "      <td>0.120554</td>\n",
       "      <td>-0.082694</td>\n",
       "      <td>0.934095</td>\n",
       "      <td>0.998623</td>\n",
       "    </tr>\n",
       "    <tr>\n",
       "      <th>...</th>\n",
       "      <td>...</td>\n",
       "      <td>...</td>\n",
       "      <td>...</td>\n",
       "      <td>...</td>\n",
       "      <td>...</td>\n",
       "      <td>...</td>\n",
       "    </tr>\n",
       "    <tr>\n",
       "      <th>ZYG11A</th>\n",
       "      <td>118.117030</td>\n",
       "      <td>0.006316</td>\n",
       "      <td>0.096922</td>\n",
       "      <td>0.155710</td>\n",
       "      <td>0.876262</td>\n",
       "      <td>0.998623</td>\n",
       "    </tr>\n",
       "    <tr>\n",
       "      <th>ZYG11B</th>\n",
       "      <td>2086.012971</td>\n",
       "      <td>0.002807</td>\n",
       "      <td>0.108220</td>\n",
       "      <td>0.064341</td>\n",
       "      <td>0.948699</td>\n",
       "      <td>0.998623</td>\n",
       "    </tr>\n",
       "    <tr>\n",
       "      <th>ZYX</th>\n",
       "      <td>13671.395901</td>\n",
       "      <td>0.114169</td>\n",
       "      <td>0.174528</td>\n",
       "      <td>2.062734</td>\n",
       "      <td>0.039138</td>\n",
       "      <td>0.431018</td>\n",
       "    </tr>\n",
       "    <tr>\n",
       "      <th>ZZEF1</th>\n",
       "      <td>3532.047782</td>\n",
       "      <td>-0.011918</td>\n",
       "      <td>0.065632</td>\n",
       "      <td>-0.282319</td>\n",
       "      <td>0.777699</td>\n",
       "      <td>0.998623</td>\n",
       "    </tr>\n",
       "    <tr>\n",
       "      <th>ZZZ3</th>\n",
       "      <td>1557.799887</td>\n",
       "      <td>-0.039946</td>\n",
       "      <td>0.088033</td>\n",
       "      <td>-0.819545</td>\n",
       "      <td>0.412476</td>\n",
       "      <td>0.969321</td>\n",
       "    </tr>\n",
       "  </tbody>\n",
       "</table>\n",
       "<p>21605 rows × 6 columns</p>\n",
       "</div>"
      ],
      "text/plain": [
       "            baseMean  log2FoldChange     lfcSE      stat    pvalue      padj\n",
       "A1BG      380.457481        0.006182  0.105654  0.168190  0.866434  0.998623\n",
       "A1CF        8.381029        0.024126  0.129354  1.233921  0.217232  0.860927\n",
       "A2M         9.000169        0.013702  0.125487  0.763990  0.444873  0.975093\n",
       "A2ML1      15.099201       -0.001690  0.118296 -0.069616  0.944499  0.998623\n",
       "A2MP1       3.086460       -0.000995  0.120554 -0.082694  0.934095  0.998623\n",
       "...              ...             ...       ...       ...       ...       ...\n",
       "ZYG11A    118.117030        0.006316  0.096922  0.155710  0.876262  0.998623\n",
       "ZYG11B   2086.012971        0.002807  0.108220  0.064341  0.948699  0.998623\n",
       "ZYX     13671.395901        0.114169  0.174528  2.062734  0.039138  0.431018\n",
       "ZZEF1    3532.047782       -0.011918  0.065632 -0.282319  0.777699  0.998623\n",
       "ZZZ3     1557.799887       -0.039946  0.088033 -0.819545  0.412476  0.969321\n",
       "\n",
       "[21605 rows x 6 columns]"
      ]
     },
     "metadata": {},
     "output_type": "display_data"
    }
   ],
   "source": [
    "\n",
    "stat_res_treat_vs_untreat.lfc_shrink(coeff= \"Treatment_untreated_vs_Treated\")\n",
    "assert stat_res_treat_vs_untreat.shrunk_LFCs == True"
   ]
  },
  {
   "cell_type": "code",
   "execution_count": 30,
   "id": "34355a2e-127d-472f-a179-9e13fb426425",
   "metadata": {},
   "outputs": [],
   "source": [
    "import plotly.express as px\n",
    "import numpy as np\n",
    "import matplotlib.pyplot as plt"
   ]
  },
  {
   "cell_type": "code",
   "execution_count": 33,
   "id": "2964d805-dfa6-48be-b2e2-4f264895d623",
   "metadata": {},
   "outputs": [],
   "source": [
    "wald_test_gRNA['log_10_padj'] = (np.log10(wald_test_gRNA[\"padj\"])) * -1"
   ]
  },
  {
   "cell_type": "code",
   "execution_count": 28,
   "id": "b1bfc288-56d3-406d-b26a-278a3e8abdee",
   "metadata": {},
   "outputs": [
    {
     "data": {
      "application/vnd.plotly.v1+json": {
       "config": {
        "plotlyServerURL": "https://plot.ly"
       },
       "data": [
        {
         "hovertemplate": "log2FoldChange=%{x}<br>log_10_padj=%{y}<extra></extra>",
         "legendgroup": "",
         "marker": {
          "color": "#636efa",
          "symbol": "circle"
         },
         "mode": "markers",
         "name": "",
         "orientation": "v",
         "showlegend": false,
         "type": "scatter",
         "x": [
          -0.14296941896288043,
          -0.054499930900222246,
          0.09534722480256781,
          -0.014936881792942978,
          -0.031585809797201735,
          -0.03426040571610866,
          1.2817609581085954,
          -0.08660676260738326,
          -0.020765801343360025,
          -0.004289730761520697,
          -0.10726176126882626,
          0.2397452776067933,
          0.19024299177823772,
          0.032352374896432695,
          0.08189743010021804,
          -0.057951893084041806,
          -0.013068255895418584,
          -0.061878715470724086,
          -0.10135498228791882,
          0.03311210990458389,
          -0.008827585347812684,
          -0.13639498911989684,
          0.046269536387638414,
          0.023369125337853635,
          -0.09223080313351459,
          -0.016217641611951706,
          -0.4132643980118034,
          -0.27339428247049136,
          -0.011078503168221404,
          0.020929200045620922,
          -0.12831417244457827,
          0.027645746455150617,
          -0.017216498185017578,
          -0.010415862650489145,
          -0.007596266046240963,
          -0.06899772972594069,
          1.0362929239253191,
          0.0095925566193666,
          -0.06803477947543847,
          0.23633759898085832,
          -0.057902069119126424,
          0.040512940181527804,
          0.06774745377193263,
          0.02368297187963989,
          -3.799110511954114e-05,
          0.24681000949987397,
          0.07819177031871546,
          -0.12280717058645998,
          0.21890587644309226,
          1.3232623733652258,
          -0.0665865760333841,
          0.005961109625132998,
          -0.019965113281304646,
          -0.022540886744270808,
          -0.1136986582002838,
          0.01940280175399571,
          0.08701310468872081,
          -0.21773284569762671,
          -0.32989359657798756,
          -0.01375487703639638,
          -0.05203767757071036,
          0.15232350560644,
          -0.2044866781708102,
          0.2506212183677163,
          0.10939383536384575,
          0.11585619641210995,
          -0.12190568793671487,
          0.06868910817041747,
          0.09637672551640401,
          -0.051794393954001205,
          0.007386361751368145,
          -0.04879492516035053,
          0.9787742851561568,
          0.5594583218634371,
          0.0005257347967734612,
          -0.0018115880214320398,
          -0.0013344485289560834,
          0.07363855623497313,
          0.029546780520604443,
          0.04012141254838502,
          0.18891535587083017,
          -0.08166414614652981,
          0.14587059650370637,
          -0.09689881645680523,
          0.009259268865247071,
          0.11779683550021036,
          0.12670023770182143,
          -0.0043122992485859135,
          0.07071577626290637,
          -0.07817722260364988,
          0.019469554765786712,
          -0.00949598934688228,
          -0.0028190186380540167,
          0.0014272519197859929,
          0.1725837450318416,
          0.04198510546038566,
          0.020708918913278546,
          0.06886610383725354,
          0.2353437978539559,
          -0.1151281167860337
         ],
         "xaxis": "x",
         "y": [
          -0.352155758118301,
          -0.18002007667899309,
          -0.4425842877540993,
          -0.027653785698981803,
          null,
          -0.10250359494391673,
          -2.8437632238909685,
          -0.19760320998299746,
          -0.035858440187266125,
          null,
          -0.2567735909852178,
          -0.735917919591111,
          -1.0545595624801578,
          -0.05628524528465503,
          -0.18845986899473005,
          -0.10521008102054918,
          null,
          -0.1287529695301432,
          -0.32155901256416675,
          -0.061126268055884427,
          -0.014280143156560749,
          -0.3819356463765429,
          -0.08312732459797914,
          -0.046305491249840146,
          -0.26575106487844213,
          -0.02366689094295982,
          -1.5748108032701353,
          -1.2655024599875901,
          -0.015605038511291414,
          -0.03195881078234346,
          -0.32833452155299425,
          -0.04772329433169906,
          -0.03426663371810008,
          -0.015010251287618577,
          -0.009660781749961947,
          -0.1272740855385384,
          -4.247008785335163,
          -0.014327883247633781,
          -0.1432130044012288,
          -0.6403023319544028,
          -0.11691127312705372,
          -0.06750568584344395,
          -0.36406699463339887,
          -0.06092592764592361,
          -0.00026477646852816444,
          -1.772092607415154,
          -0.2696400181319279,
          -0.34574107619661926,
          -0.9781007092281898,
          -23.058088419927255,
          -0.1471027908573905,
          -0.009089487170843114,
          null,
          null,
          -0.26957302825156365,
          -0.031152985747206378,
          -0.19505086923906076,
          -3.795656915397569,
          -0.8925774601907182,
          null,
          -0.150385610758268,
          -0.38244149748424805,
          -0.5466453601931223,
          -0.8244742064767515,
          -0.3257388256732367,
          -0.2533620411685396,
          -0.5508050114065026,
          -0.13192508022567395,
          -0.2126027964429943,
          -0.09847088040758789,
          null,
          -0.10570082300700301,
          -2.179043991530427,
          -3.304679196831648,
          -0.0002745605900360022,
          null,
          null,
          -0.1482984266308898,
          -0.04622922459949281,
          -0.06757793739917643,
          -1.0027241653441388,
          -0.16749478792077188,
          -0.4185418169434899,
          -0.21542980547046134,
          -0.02644936115447542,
          -0.2932892398744249,
          -0.4264186263076612,
          -0.005642109201311102,
          -0.14232987713933046,
          -0.16472292483704284,
          -0.08368592653054893,
          null,
          null,
          -0.0027584501852436763,
          -0.5995623637699607,
          -0.07047286102371947,
          -0.08822967775587426,
          -0.14053026163784274,
          -1.065673950348981,
          -0.30371223669891867
         ],
         "yaxis": "y"
        }
       ],
       "layout": {
        "legend": {
         "tracegroupgap": 0
        },
        "margin": {
         "t": 60
        },
        "template": {
         "data": {
          "bar": [
           {
            "error_x": {
             "color": "#2a3f5f"
            },
            "error_y": {
             "color": "#2a3f5f"
            },
            "marker": {
             "line": {
              "color": "#E5ECF6",
              "width": 0.5
             },
             "pattern": {
              "fillmode": "overlay",
              "size": 10,
              "solidity": 0.2
             }
            },
            "type": "bar"
           }
          ],
          "barpolar": [
           {
            "marker": {
             "line": {
              "color": "#E5ECF6",
              "width": 0.5
             },
             "pattern": {
              "fillmode": "overlay",
              "size": 10,
              "solidity": 0.2
             }
            },
            "type": "barpolar"
           }
          ],
          "carpet": [
           {
            "aaxis": {
             "endlinecolor": "#2a3f5f",
             "gridcolor": "white",
             "linecolor": "white",
             "minorgridcolor": "white",
             "startlinecolor": "#2a3f5f"
            },
            "baxis": {
             "endlinecolor": "#2a3f5f",
             "gridcolor": "white",
             "linecolor": "white",
             "minorgridcolor": "white",
             "startlinecolor": "#2a3f5f"
            },
            "type": "carpet"
           }
          ],
          "choropleth": [
           {
            "colorbar": {
             "outlinewidth": 0,
             "ticks": ""
            },
            "type": "choropleth"
           }
          ],
          "contour": [
           {
            "colorbar": {
             "outlinewidth": 0,
             "ticks": ""
            },
            "colorscale": [
             [
              0,
              "#0d0887"
             ],
             [
              0.1111111111111111,
              "#46039f"
             ],
             [
              0.2222222222222222,
              "#7201a8"
             ],
             [
              0.3333333333333333,
              "#9c179e"
             ],
             [
              0.4444444444444444,
              "#bd3786"
             ],
             [
              0.5555555555555556,
              "#d8576b"
             ],
             [
              0.6666666666666666,
              "#ed7953"
             ],
             [
              0.7777777777777778,
              "#fb9f3a"
             ],
             [
              0.8888888888888888,
              "#fdca26"
             ],
             [
              1,
              "#f0f921"
             ]
            ],
            "type": "contour"
           }
          ],
          "contourcarpet": [
           {
            "colorbar": {
             "outlinewidth": 0,
             "ticks": ""
            },
            "type": "contourcarpet"
           }
          ],
          "heatmap": [
           {
            "colorbar": {
             "outlinewidth": 0,
             "ticks": ""
            },
            "colorscale": [
             [
              0,
              "#0d0887"
             ],
             [
              0.1111111111111111,
              "#46039f"
             ],
             [
              0.2222222222222222,
              "#7201a8"
             ],
             [
              0.3333333333333333,
              "#9c179e"
             ],
             [
              0.4444444444444444,
              "#bd3786"
             ],
             [
              0.5555555555555556,
              "#d8576b"
             ],
             [
              0.6666666666666666,
              "#ed7953"
             ],
             [
              0.7777777777777778,
              "#fb9f3a"
             ],
             [
              0.8888888888888888,
              "#fdca26"
             ],
             [
              1,
              "#f0f921"
             ]
            ],
            "type": "heatmap"
           }
          ],
          "heatmapgl": [
           {
            "colorbar": {
             "outlinewidth": 0,
             "ticks": ""
            },
            "colorscale": [
             [
              0,
              "#0d0887"
             ],
             [
              0.1111111111111111,
              "#46039f"
             ],
             [
              0.2222222222222222,
              "#7201a8"
             ],
             [
              0.3333333333333333,
              "#9c179e"
             ],
             [
              0.4444444444444444,
              "#bd3786"
             ],
             [
              0.5555555555555556,
              "#d8576b"
             ],
             [
              0.6666666666666666,
              "#ed7953"
             ],
             [
              0.7777777777777778,
              "#fb9f3a"
             ],
             [
              0.8888888888888888,
              "#fdca26"
             ],
             [
              1,
              "#f0f921"
             ]
            ],
            "type": "heatmapgl"
           }
          ],
          "histogram": [
           {
            "marker": {
             "pattern": {
              "fillmode": "overlay",
              "size": 10,
              "solidity": 0.2
             }
            },
            "type": "histogram"
           }
          ],
          "histogram2d": [
           {
            "colorbar": {
             "outlinewidth": 0,
             "ticks": ""
            },
            "colorscale": [
             [
              0,
              "#0d0887"
             ],
             [
              0.1111111111111111,
              "#46039f"
             ],
             [
              0.2222222222222222,
              "#7201a8"
             ],
             [
              0.3333333333333333,
              "#9c179e"
             ],
             [
              0.4444444444444444,
              "#bd3786"
             ],
             [
              0.5555555555555556,
              "#d8576b"
             ],
             [
              0.6666666666666666,
              "#ed7953"
             ],
             [
              0.7777777777777778,
              "#fb9f3a"
             ],
             [
              0.8888888888888888,
              "#fdca26"
             ],
             [
              1,
              "#f0f921"
             ]
            ],
            "type": "histogram2d"
           }
          ],
          "histogram2dcontour": [
           {
            "colorbar": {
             "outlinewidth": 0,
             "ticks": ""
            },
            "colorscale": [
             [
              0,
              "#0d0887"
             ],
             [
              0.1111111111111111,
              "#46039f"
             ],
             [
              0.2222222222222222,
              "#7201a8"
             ],
             [
              0.3333333333333333,
              "#9c179e"
             ],
             [
              0.4444444444444444,
              "#bd3786"
             ],
             [
              0.5555555555555556,
              "#d8576b"
             ],
             [
              0.6666666666666666,
              "#ed7953"
             ],
             [
              0.7777777777777778,
              "#fb9f3a"
             ],
             [
              0.8888888888888888,
              "#fdca26"
             ],
             [
              1,
              "#f0f921"
             ]
            ],
            "type": "histogram2dcontour"
           }
          ],
          "mesh3d": [
           {
            "colorbar": {
             "outlinewidth": 0,
             "ticks": ""
            },
            "type": "mesh3d"
           }
          ],
          "parcoords": [
           {
            "line": {
             "colorbar": {
              "outlinewidth": 0,
              "ticks": ""
             }
            },
            "type": "parcoords"
           }
          ],
          "pie": [
           {
            "automargin": true,
            "type": "pie"
           }
          ],
          "scatter": [
           {
            "fillpattern": {
             "fillmode": "overlay",
             "size": 10,
             "solidity": 0.2
            },
            "type": "scatter"
           }
          ],
          "scatter3d": [
           {
            "line": {
             "colorbar": {
              "outlinewidth": 0,
              "ticks": ""
             }
            },
            "marker": {
             "colorbar": {
              "outlinewidth": 0,
              "ticks": ""
             }
            },
            "type": "scatter3d"
           }
          ],
          "scattercarpet": [
           {
            "marker": {
             "colorbar": {
              "outlinewidth": 0,
              "ticks": ""
             }
            },
            "type": "scattercarpet"
           }
          ],
          "scattergeo": [
           {
            "marker": {
             "colorbar": {
              "outlinewidth": 0,
              "ticks": ""
             }
            },
            "type": "scattergeo"
           }
          ],
          "scattergl": [
           {
            "marker": {
             "colorbar": {
              "outlinewidth": 0,
              "ticks": ""
             }
            },
            "type": "scattergl"
           }
          ],
          "scattermapbox": [
           {
            "marker": {
             "colorbar": {
              "outlinewidth": 0,
              "ticks": ""
             }
            },
            "type": "scattermapbox"
           }
          ],
          "scatterpolar": [
           {
            "marker": {
             "colorbar": {
              "outlinewidth": 0,
              "ticks": ""
             }
            },
            "type": "scatterpolar"
           }
          ],
          "scatterpolargl": [
           {
            "marker": {
             "colorbar": {
              "outlinewidth": 0,
              "ticks": ""
             }
            },
            "type": "scatterpolargl"
           }
          ],
          "scatterternary": [
           {
            "marker": {
             "colorbar": {
              "outlinewidth": 0,
              "ticks": ""
             }
            },
            "type": "scatterternary"
           }
          ],
          "surface": [
           {
            "colorbar": {
             "outlinewidth": 0,
             "ticks": ""
            },
            "colorscale": [
             [
              0,
              "#0d0887"
             ],
             [
              0.1111111111111111,
              "#46039f"
             ],
             [
              0.2222222222222222,
              "#7201a8"
             ],
             [
              0.3333333333333333,
              "#9c179e"
             ],
             [
              0.4444444444444444,
              "#bd3786"
             ],
             [
              0.5555555555555556,
              "#d8576b"
             ],
             [
              0.6666666666666666,
              "#ed7953"
             ],
             [
              0.7777777777777778,
              "#fb9f3a"
             ],
             [
              0.8888888888888888,
              "#fdca26"
             ],
             [
              1,
              "#f0f921"
             ]
            ],
            "type": "surface"
           }
          ],
          "table": [
           {
            "cells": {
             "fill": {
              "color": "#EBF0F8"
             },
             "line": {
              "color": "white"
             }
            },
            "header": {
             "fill": {
              "color": "#C8D4E3"
             },
             "line": {
              "color": "white"
             }
            },
            "type": "table"
           }
          ]
         },
         "layout": {
          "annotationdefaults": {
           "arrowcolor": "#2a3f5f",
           "arrowhead": 0,
           "arrowwidth": 1
          },
          "autotypenumbers": "strict",
          "coloraxis": {
           "colorbar": {
            "outlinewidth": 0,
            "ticks": ""
           }
          },
          "colorscale": {
           "diverging": [
            [
             0,
             "#8e0152"
            ],
            [
             0.1,
             "#c51b7d"
            ],
            [
             0.2,
             "#de77ae"
            ],
            [
             0.3,
             "#f1b6da"
            ],
            [
             0.4,
             "#fde0ef"
            ],
            [
             0.5,
             "#f7f7f7"
            ],
            [
             0.6,
             "#e6f5d0"
            ],
            [
             0.7,
             "#b8e186"
            ],
            [
             0.8,
             "#7fbc41"
            ],
            [
             0.9,
             "#4d9221"
            ],
            [
             1,
             "#276419"
            ]
           ],
           "sequential": [
            [
             0,
             "#0d0887"
            ],
            [
             0.1111111111111111,
             "#46039f"
            ],
            [
             0.2222222222222222,
             "#7201a8"
            ],
            [
             0.3333333333333333,
             "#9c179e"
            ],
            [
             0.4444444444444444,
             "#bd3786"
            ],
            [
             0.5555555555555556,
             "#d8576b"
            ],
            [
             0.6666666666666666,
             "#ed7953"
            ],
            [
             0.7777777777777778,
             "#fb9f3a"
            ],
            [
             0.8888888888888888,
             "#fdca26"
            ],
            [
             1,
             "#f0f921"
            ]
           ],
           "sequentialminus": [
            [
             0,
             "#0d0887"
            ],
            [
             0.1111111111111111,
             "#46039f"
            ],
            [
             0.2222222222222222,
             "#7201a8"
            ],
            [
             0.3333333333333333,
             "#9c179e"
            ],
            [
             0.4444444444444444,
             "#bd3786"
            ],
            [
             0.5555555555555556,
             "#d8576b"
            ],
            [
             0.6666666666666666,
             "#ed7953"
            ],
            [
             0.7777777777777778,
             "#fb9f3a"
            ],
            [
             0.8888888888888888,
             "#fdca26"
            ],
            [
             1,
             "#f0f921"
            ]
           ]
          },
          "colorway": [
           "#636efa",
           "#EF553B",
           "#00cc96",
           "#ab63fa",
           "#FFA15A",
           "#19d3f3",
           "#FF6692",
           "#B6E880",
           "#FF97FF",
           "#FECB52"
          ],
          "font": {
           "color": "#2a3f5f"
          },
          "geo": {
           "bgcolor": "white",
           "lakecolor": "white",
           "landcolor": "#E5ECF6",
           "showlakes": true,
           "showland": true,
           "subunitcolor": "white"
          },
          "hoverlabel": {
           "align": "left"
          },
          "hovermode": "closest",
          "mapbox": {
           "style": "light"
          },
          "paper_bgcolor": "white",
          "plot_bgcolor": "#E5ECF6",
          "polar": {
           "angularaxis": {
            "gridcolor": "white",
            "linecolor": "white",
            "ticks": ""
           },
           "bgcolor": "#E5ECF6",
           "radialaxis": {
            "gridcolor": "white",
            "linecolor": "white",
            "ticks": ""
           }
          },
          "scene": {
           "xaxis": {
            "backgroundcolor": "#E5ECF6",
            "gridcolor": "white",
            "gridwidth": 2,
            "linecolor": "white",
            "showbackground": true,
            "ticks": "",
            "zerolinecolor": "white"
           },
           "yaxis": {
            "backgroundcolor": "#E5ECF6",
            "gridcolor": "white",
            "gridwidth": 2,
            "linecolor": "white",
            "showbackground": true,
            "ticks": "",
            "zerolinecolor": "white"
           },
           "zaxis": {
            "backgroundcolor": "#E5ECF6",
            "gridcolor": "white",
            "gridwidth": 2,
            "linecolor": "white",
            "showbackground": true,
            "ticks": "",
            "zerolinecolor": "white"
           }
          },
          "shapedefaults": {
           "line": {
            "color": "#2a3f5f"
           }
          },
          "ternary": {
           "aaxis": {
            "gridcolor": "white",
            "linecolor": "white",
            "ticks": ""
           },
           "baxis": {
            "gridcolor": "white",
            "linecolor": "white",
            "ticks": ""
           },
           "bgcolor": "#E5ECF6",
           "caxis": {
            "gridcolor": "white",
            "linecolor": "white",
            "ticks": ""
           }
          },
          "title": {
           "x": 0.05
          },
          "xaxis": {
           "automargin": true,
           "gridcolor": "white",
           "linecolor": "white",
           "ticks": "",
           "title": {
            "standoff": 15
           },
           "zerolinecolor": "white",
           "zerolinewidth": 2
          },
          "yaxis": {
           "automargin": true,
           "gridcolor": "white",
           "linecolor": "white",
           "ticks": "",
           "title": {
            "standoff": 15
           },
           "zerolinecolor": "white",
           "zerolinewidth": 2
          }
         }
        },
        "xaxis": {
         "anchor": "y",
         "domain": [
          0,
          1
         ],
         "title": {
          "text": "log2FoldChange"
         }
        },
        "yaxis": {
         "anchor": "x",
         "domain": [
          0,
          1
         ],
         "title": {
          "text": "log_10_padj"
         }
        }
       }
      },
      "text/html": [
       "<div>                            <div id=\"61d89680-f332-4f72-8c60-e1f1448ac663\" class=\"plotly-graph-div\" style=\"height:525px; width:100%;\"></div>            <script type=\"text/javascript\">                require([\"plotly\"], function(Plotly) {                    window.PLOTLYENV=window.PLOTLYENV || {};                                    if (document.getElementById(\"61d89680-f332-4f72-8c60-e1f1448ac663\")) {                    Plotly.newPlot(                        \"61d89680-f332-4f72-8c60-e1f1448ac663\",                        [{\"hovertemplate\":\"log2FoldChange=%{x}\\u003cbr\\u003elog_10_padj=%{y}\\u003cextra\\u003e\\u003c\\u002fextra\\u003e\",\"legendgroup\":\"\",\"marker\":{\"color\":\"#636efa\",\"symbol\":\"circle\"},\"mode\":\"markers\",\"name\":\"\",\"orientation\":\"v\",\"showlegend\":false,\"x\":[-0.14296941896288043,-0.054499930900222246,0.09534722480256781,-0.014936881792942978,-0.031585809797201735,-0.03426040571610866,1.2817609581085954,-0.08660676260738326,-0.020765801343360025,-0.004289730761520697,-0.10726176126882626,0.2397452776067933,0.19024299177823772,0.032352374896432695,0.08189743010021804,-0.057951893084041806,-0.013068255895418584,-0.061878715470724086,-0.10135498228791882,0.03311210990458389,-0.008827585347812684,-0.13639498911989684,0.046269536387638414,0.023369125337853635,-0.09223080313351459,-0.016217641611951706,-0.4132643980118034,-0.27339428247049136,-0.011078503168221404,0.020929200045620922,-0.12831417244457827,0.027645746455150617,-0.017216498185017578,-0.010415862650489145,-0.007596266046240963,-0.06899772972594069,1.0362929239253191,0.0095925566193666,-0.06803477947543847,0.23633759898085832,-0.057902069119126424,0.040512940181527804,0.06774745377193263,0.02368297187963989,-3.799110511954114e-05,0.24681000949987397,0.07819177031871546,-0.12280717058645998,0.21890587644309226,1.3232623733652258,-0.0665865760333841,0.005961109625132998,-0.019965113281304646,-0.022540886744270808,-0.1136986582002838,0.01940280175399571,0.08701310468872081,-0.21773284569762671,-0.32989359657798756,-0.01375487703639638,-0.05203767757071036,0.15232350560644,-0.2044866781708102,0.2506212183677163,0.10939383536384575,0.11585619641210995,-0.12190568793671487,0.06868910817041747,0.09637672551640401,-0.051794393954001205,0.007386361751368145,-0.04879492516035053,0.9787742851561568,0.5594583218634371,0.0005257347967734612,-0.0018115880214320398,-0.0013344485289560834,0.07363855623497313,0.029546780520604443,0.04012141254838502,0.18891535587083017,-0.08166414614652981,0.14587059650370637,-0.09689881645680523,0.009259268865247071,0.11779683550021036,0.12670023770182143,-0.0043122992485859135,0.07071577626290637,-0.07817722260364988,0.019469554765786712,-0.00949598934688228,-0.0028190186380540167,0.0014272519197859929,0.1725837450318416,0.04198510546038566,0.020708918913278546,0.06886610383725354,0.2353437978539559,-0.1151281167860337],\"xaxis\":\"x\",\"y\":[-0.352155758118301,-0.18002007667899309,-0.4425842877540993,-0.027653785698981803,null,-0.10250359494391673,-2.8437632238909685,-0.19760320998299746,-0.035858440187266125,null,-0.2567735909852178,-0.735917919591111,-1.0545595624801578,-0.05628524528465503,-0.18845986899473005,-0.10521008102054918,null,-0.1287529695301432,-0.32155901256416675,-0.061126268055884427,-0.014280143156560749,-0.3819356463765429,-0.08312732459797914,-0.046305491249840146,-0.26575106487844213,-0.02366689094295982,-1.5748108032701353,-1.2655024599875901,-0.015605038511291414,-0.03195881078234346,-0.32833452155299425,-0.04772329433169906,-0.03426663371810008,-0.015010251287618577,-0.009660781749961947,-0.1272740855385384,-4.247008785335163,-0.014327883247633781,-0.1432130044012288,-0.6403023319544028,-0.11691127312705372,-0.06750568584344395,-0.36406699463339887,-0.06092592764592361,-0.00026477646852816444,-1.772092607415154,-0.2696400181319279,-0.34574107619661926,-0.9781007092281898,-23.058088419927255,-0.1471027908573905,-0.009089487170843114,null,null,-0.26957302825156365,-0.031152985747206378,-0.19505086923906076,-3.795656915397569,-0.8925774601907182,null,-0.150385610758268,-0.38244149748424805,-0.5466453601931223,-0.8244742064767515,-0.3257388256732367,-0.2533620411685396,-0.5508050114065026,-0.13192508022567395,-0.2126027964429943,-0.09847088040758789,null,-0.10570082300700301,-2.179043991530427,-3.304679196831648,-0.0002745605900360022,null,null,-0.1482984266308898,-0.04622922459949281,-0.06757793739917643,-1.0027241653441388,-0.16749478792077188,-0.4185418169434899,-0.21542980547046134,-0.02644936115447542,-0.2932892398744249,-0.4264186263076612,-0.005642109201311102,-0.14232987713933046,-0.16472292483704284,-0.08368592653054893,null,null,-0.0027584501852436763,-0.5995623637699607,-0.07047286102371947,-0.08822967775587426,-0.14053026163784274,-1.065673950348981,-0.30371223669891867],\"yaxis\":\"y\",\"type\":\"scatter\"}],                        {\"template\":{\"data\":{\"histogram2dcontour\":[{\"type\":\"histogram2dcontour\",\"colorbar\":{\"outlinewidth\":0,\"ticks\":\"\"},\"colorscale\":[[0.0,\"#0d0887\"],[0.1111111111111111,\"#46039f\"],[0.2222222222222222,\"#7201a8\"],[0.3333333333333333,\"#9c179e\"],[0.4444444444444444,\"#bd3786\"],[0.5555555555555556,\"#d8576b\"],[0.6666666666666666,\"#ed7953\"],[0.7777777777777778,\"#fb9f3a\"],[0.8888888888888888,\"#fdca26\"],[1.0,\"#f0f921\"]]}],\"choropleth\":[{\"type\":\"choropleth\",\"colorbar\":{\"outlinewidth\":0,\"ticks\":\"\"}}],\"histogram2d\":[{\"type\":\"histogram2d\",\"colorbar\":{\"outlinewidth\":0,\"ticks\":\"\"},\"colorscale\":[[0.0,\"#0d0887\"],[0.1111111111111111,\"#46039f\"],[0.2222222222222222,\"#7201a8\"],[0.3333333333333333,\"#9c179e\"],[0.4444444444444444,\"#bd3786\"],[0.5555555555555556,\"#d8576b\"],[0.6666666666666666,\"#ed7953\"],[0.7777777777777778,\"#fb9f3a\"],[0.8888888888888888,\"#fdca26\"],[1.0,\"#f0f921\"]]}],\"heatmap\":[{\"type\":\"heatmap\",\"colorbar\":{\"outlinewidth\":0,\"ticks\":\"\"},\"colorscale\":[[0.0,\"#0d0887\"],[0.1111111111111111,\"#46039f\"],[0.2222222222222222,\"#7201a8\"],[0.3333333333333333,\"#9c179e\"],[0.4444444444444444,\"#bd3786\"],[0.5555555555555556,\"#d8576b\"],[0.6666666666666666,\"#ed7953\"],[0.7777777777777778,\"#fb9f3a\"],[0.8888888888888888,\"#fdca26\"],[1.0,\"#f0f921\"]]}],\"heatmapgl\":[{\"type\":\"heatmapgl\",\"colorbar\":{\"outlinewidth\":0,\"ticks\":\"\"},\"colorscale\":[[0.0,\"#0d0887\"],[0.1111111111111111,\"#46039f\"],[0.2222222222222222,\"#7201a8\"],[0.3333333333333333,\"#9c179e\"],[0.4444444444444444,\"#bd3786\"],[0.5555555555555556,\"#d8576b\"],[0.6666666666666666,\"#ed7953\"],[0.7777777777777778,\"#fb9f3a\"],[0.8888888888888888,\"#fdca26\"],[1.0,\"#f0f921\"]]}],\"contourcarpet\":[{\"type\":\"contourcarpet\",\"colorbar\":{\"outlinewidth\":0,\"ticks\":\"\"}}],\"contour\":[{\"type\":\"contour\",\"colorbar\":{\"outlinewidth\":0,\"ticks\":\"\"},\"colorscale\":[[0.0,\"#0d0887\"],[0.1111111111111111,\"#46039f\"],[0.2222222222222222,\"#7201a8\"],[0.3333333333333333,\"#9c179e\"],[0.4444444444444444,\"#bd3786\"],[0.5555555555555556,\"#d8576b\"],[0.6666666666666666,\"#ed7953\"],[0.7777777777777778,\"#fb9f3a\"],[0.8888888888888888,\"#fdca26\"],[1.0,\"#f0f921\"]]}],\"surface\":[{\"type\":\"surface\",\"colorbar\":{\"outlinewidth\":0,\"ticks\":\"\"},\"colorscale\":[[0.0,\"#0d0887\"],[0.1111111111111111,\"#46039f\"],[0.2222222222222222,\"#7201a8\"],[0.3333333333333333,\"#9c179e\"],[0.4444444444444444,\"#bd3786\"],[0.5555555555555556,\"#d8576b\"],[0.6666666666666666,\"#ed7953\"],[0.7777777777777778,\"#fb9f3a\"],[0.8888888888888888,\"#fdca26\"],[1.0,\"#f0f921\"]]}],\"mesh3d\":[{\"type\":\"mesh3d\",\"colorbar\":{\"outlinewidth\":0,\"ticks\":\"\"}}],\"scatter\":[{\"fillpattern\":{\"fillmode\":\"overlay\",\"size\":10,\"solidity\":0.2},\"type\":\"scatter\"}],\"parcoords\":[{\"type\":\"parcoords\",\"line\":{\"colorbar\":{\"outlinewidth\":0,\"ticks\":\"\"}}}],\"scatterpolargl\":[{\"type\":\"scatterpolargl\",\"marker\":{\"colorbar\":{\"outlinewidth\":0,\"ticks\":\"\"}}}],\"bar\":[{\"error_x\":{\"color\":\"#2a3f5f\"},\"error_y\":{\"color\":\"#2a3f5f\"},\"marker\":{\"line\":{\"color\":\"#E5ECF6\",\"width\":0.5},\"pattern\":{\"fillmode\":\"overlay\",\"size\":10,\"solidity\":0.2}},\"type\":\"bar\"}],\"scattergeo\":[{\"type\":\"scattergeo\",\"marker\":{\"colorbar\":{\"outlinewidth\":0,\"ticks\":\"\"}}}],\"scatterpolar\":[{\"type\":\"scatterpolar\",\"marker\":{\"colorbar\":{\"outlinewidth\":0,\"ticks\":\"\"}}}],\"histogram\":[{\"marker\":{\"pattern\":{\"fillmode\":\"overlay\",\"size\":10,\"solidity\":0.2}},\"type\":\"histogram\"}],\"scattergl\":[{\"type\":\"scattergl\",\"marker\":{\"colorbar\":{\"outlinewidth\":0,\"ticks\":\"\"}}}],\"scatter3d\":[{\"type\":\"scatter3d\",\"line\":{\"colorbar\":{\"outlinewidth\":0,\"ticks\":\"\"}},\"marker\":{\"colorbar\":{\"outlinewidth\":0,\"ticks\":\"\"}}}],\"scattermapbox\":[{\"type\":\"scattermapbox\",\"marker\":{\"colorbar\":{\"outlinewidth\":0,\"ticks\":\"\"}}}],\"scatterternary\":[{\"type\":\"scatterternary\",\"marker\":{\"colorbar\":{\"outlinewidth\":0,\"ticks\":\"\"}}}],\"scattercarpet\":[{\"type\":\"scattercarpet\",\"marker\":{\"colorbar\":{\"outlinewidth\":0,\"ticks\":\"\"}}}],\"carpet\":[{\"aaxis\":{\"endlinecolor\":\"#2a3f5f\",\"gridcolor\":\"white\",\"linecolor\":\"white\",\"minorgridcolor\":\"white\",\"startlinecolor\":\"#2a3f5f\"},\"baxis\":{\"endlinecolor\":\"#2a3f5f\",\"gridcolor\":\"white\",\"linecolor\":\"white\",\"minorgridcolor\":\"white\",\"startlinecolor\":\"#2a3f5f\"},\"type\":\"carpet\"}],\"table\":[{\"cells\":{\"fill\":{\"color\":\"#EBF0F8\"},\"line\":{\"color\":\"white\"}},\"header\":{\"fill\":{\"color\":\"#C8D4E3\"},\"line\":{\"color\":\"white\"}},\"type\":\"table\"}],\"barpolar\":[{\"marker\":{\"line\":{\"color\":\"#E5ECF6\",\"width\":0.5},\"pattern\":{\"fillmode\":\"overlay\",\"size\":10,\"solidity\":0.2}},\"type\":\"barpolar\"}],\"pie\":[{\"automargin\":true,\"type\":\"pie\"}]},\"layout\":{\"autotypenumbers\":\"strict\",\"colorway\":[\"#636efa\",\"#EF553B\",\"#00cc96\",\"#ab63fa\",\"#FFA15A\",\"#19d3f3\",\"#FF6692\",\"#B6E880\",\"#FF97FF\",\"#FECB52\"],\"font\":{\"color\":\"#2a3f5f\"},\"hovermode\":\"closest\",\"hoverlabel\":{\"align\":\"left\"},\"paper_bgcolor\":\"white\",\"plot_bgcolor\":\"#E5ECF6\",\"polar\":{\"bgcolor\":\"#E5ECF6\",\"angularaxis\":{\"gridcolor\":\"white\",\"linecolor\":\"white\",\"ticks\":\"\"},\"radialaxis\":{\"gridcolor\":\"white\",\"linecolor\":\"white\",\"ticks\":\"\"}},\"ternary\":{\"bgcolor\":\"#E5ECF6\",\"aaxis\":{\"gridcolor\":\"white\",\"linecolor\":\"white\",\"ticks\":\"\"},\"baxis\":{\"gridcolor\":\"white\",\"linecolor\":\"white\",\"ticks\":\"\"},\"caxis\":{\"gridcolor\":\"white\",\"linecolor\":\"white\",\"ticks\":\"\"}},\"coloraxis\":{\"colorbar\":{\"outlinewidth\":0,\"ticks\":\"\"}},\"colorscale\":{\"sequential\":[[0.0,\"#0d0887\"],[0.1111111111111111,\"#46039f\"],[0.2222222222222222,\"#7201a8\"],[0.3333333333333333,\"#9c179e\"],[0.4444444444444444,\"#bd3786\"],[0.5555555555555556,\"#d8576b\"],[0.6666666666666666,\"#ed7953\"],[0.7777777777777778,\"#fb9f3a\"],[0.8888888888888888,\"#fdca26\"],[1.0,\"#f0f921\"]],\"sequentialminus\":[[0.0,\"#0d0887\"],[0.1111111111111111,\"#46039f\"],[0.2222222222222222,\"#7201a8\"],[0.3333333333333333,\"#9c179e\"],[0.4444444444444444,\"#bd3786\"],[0.5555555555555556,\"#d8576b\"],[0.6666666666666666,\"#ed7953\"],[0.7777777777777778,\"#fb9f3a\"],[0.8888888888888888,\"#fdca26\"],[1.0,\"#f0f921\"]],\"diverging\":[[0,\"#8e0152\"],[0.1,\"#c51b7d\"],[0.2,\"#de77ae\"],[0.3,\"#f1b6da\"],[0.4,\"#fde0ef\"],[0.5,\"#f7f7f7\"],[0.6,\"#e6f5d0\"],[0.7,\"#b8e186\"],[0.8,\"#7fbc41\"],[0.9,\"#4d9221\"],[1,\"#276419\"]]},\"xaxis\":{\"gridcolor\":\"white\",\"linecolor\":\"white\",\"ticks\":\"\",\"title\":{\"standoff\":15},\"zerolinecolor\":\"white\",\"automargin\":true,\"zerolinewidth\":2},\"yaxis\":{\"gridcolor\":\"white\",\"linecolor\":\"white\",\"ticks\":\"\",\"title\":{\"standoff\":15},\"zerolinecolor\":\"white\",\"automargin\":true,\"zerolinewidth\":2},\"scene\":{\"xaxis\":{\"backgroundcolor\":\"#E5ECF6\",\"gridcolor\":\"white\",\"linecolor\":\"white\",\"showbackground\":true,\"ticks\":\"\",\"zerolinecolor\":\"white\",\"gridwidth\":2},\"yaxis\":{\"backgroundcolor\":\"#E5ECF6\",\"gridcolor\":\"white\",\"linecolor\":\"white\",\"showbackground\":true,\"ticks\":\"\",\"zerolinecolor\":\"white\",\"gridwidth\":2},\"zaxis\":{\"backgroundcolor\":\"#E5ECF6\",\"gridcolor\":\"white\",\"linecolor\":\"white\",\"showbackground\":true,\"ticks\":\"\",\"zerolinecolor\":\"white\",\"gridwidth\":2}},\"shapedefaults\":{\"line\":{\"color\":\"#2a3f5f\"}},\"annotationdefaults\":{\"arrowcolor\":\"#2a3f5f\",\"arrowhead\":0,\"arrowwidth\":1},\"geo\":{\"bgcolor\":\"white\",\"landcolor\":\"#E5ECF6\",\"subunitcolor\":\"white\",\"showland\":true,\"showlakes\":true,\"lakecolor\":\"white\"},\"title\":{\"x\":0.05},\"mapbox\":{\"style\":\"light\"}}},\"xaxis\":{\"anchor\":\"y\",\"domain\":[0.0,1.0],\"title\":{\"text\":\"log2FoldChange\"}},\"yaxis\":{\"anchor\":\"x\",\"domain\":[0.0,1.0],\"title\":{\"text\":\"log_10_padj\"}},\"legend\":{\"tracegroupgap\":0},\"margin\":{\"t\":60}},                        {\"responsive\": true}                    ).then(function(){\n",
       "                            \n",
       "var gd = document.getElementById('61d89680-f332-4f72-8c60-e1f1448ac663');\n",
       "var x = new MutationObserver(function (mutations, observer) {{\n",
       "        var display = window.getComputedStyle(gd).display;\n",
       "        if (!display || display === 'none') {{\n",
       "            console.log([gd, 'removed!']);\n",
       "            Plotly.purge(gd);\n",
       "            observer.disconnect();\n",
       "        }}\n",
       "}});\n",
       "\n",
       "// Listen for the removal of the full notebook cells\n",
       "var notebookContainer = gd.closest('#notebook-container');\n",
       "if (notebookContainer) {{\n",
       "    x.observe(notebookContainer, {childList: true});\n",
       "}}\n",
       "\n",
       "// Listen for the clearing of the current output cell\n",
       "var outputEl = gd.closest('.output');\n",
       "if (outputEl) {{\n",
       "    x.observe(outputEl, {childList: true});\n",
       "}}\n",
       "\n",
       "                        })                };                });            </script>        </div>"
      ]
     },
     "metadata": {},
     "output_type": "display_data"
    }
   ],
   "source": [
    "fig = px.scatter(\n",
    "    data_frame=wald_test_gRNA.head(100),\n",
    "    x = \"log2FoldChange\",\n",
    "    y = \"log_10_padj\"\n",
    ")\n",
    "fig.show()"
   ]
  },
  {
   "cell_type": "code",
   "execution_count": 43,
   "id": "4b4c6702-d90d-46d6-851c-e71629019729",
   "metadata": {},
   "outputs": [],
   "source": []
  },
  {
   "cell_type": "code",
   "execution_count": 47,
   "id": "ba488fb7-1391-44dc-b0fa-c57c90ff6a51",
   "metadata": {},
   "outputs": [
    {
     "data": {
      "image/png": "[encoded data removed]",
      "text/plain": [
       "<Figure size 640x480 with 1 Axes>"
      ]
     },
     "metadata": {},
     "output_type": "display_data"
    }
   ],
   "source": [
    "# fig, ax = plt.subplots(figsize = (15,6))\n",
    "\n",
    "mask =  (abs(wald_test_gRNA[\"log2FoldChange\"]) > 2) & (wald_test_gRNA[\"log_10_padj\"] > 0.05)\n",
    "plt.scatter(x=wald_test_gRNA[\"log2FoldChange\"][mask],\n",
    "            y=wald_test_gRNA[\"log_10_padj\"][mask], c = \"r\",\n",
    "           label= \"Significant DEGs\")\n",
    "plt.scatter(x=wald_test_gRNA[\"log2FoldChange\"][~mask],\n",
    "            y=wald_test_gRNA[\"log_10_padj\"][~mask],\n",
    "           label= \"Notsignificant DEGs\")\n",
    "plt.xlabel(\"Log2FoldChange\")\n",
    "plt.ylabel(\"-Log10(padj_value)\")\n",
    "plt.title(\"Volcano Plot: DEGs of gRNA_MED25_vs_AAVS1\")\n",
    "plt.legend()\n",
    "plt.show;\n",
    "            "
   ]
  },
  {
   "cell_type": "code",
   "execution_count": 48,
   "id": "f0c946f3-269c-4e18-b0e2-8f253e5d882d",
   "metadata": {},
   "outputs": [
    {
     "data": {
      "image/png": "[encoded data removed]",
      "text/plain": [
       "<Figure size 640x480 with 1 Axes>"
      ]
     },
     "metadata": {},
     "output_type": "display_data"
    }
   ],
   "source": [
    "# fig, ax = plt.subplots(figsize = (15,6))\n",
    "wald_test_treat['log_10_padj'] = (np.log10(wald_test_treat[\"padj\"])) * -1\n",
    "mask =  (abs(wald_test_treat[\"log2FoldChange\"]) > 2) & (wald_test_treat[\"log_10_padj\"] > 0.05)\n",
    "plt.scatter(x=wald_test_treat[\"log2FoldChange\"][mask],\n",
    "            y=wald_test_treat[\"log_10_padj\"][mask], c = \"r\",\n",
    "           label= \"Significant DEGs\")\n",
    "plt.scatter(x=wald_test_treat[\"log2FoldChange\"][~mask],\n",
    "            y=wald_test_treat[\"log_10_padj\"][~mask],\n",
    "           label= \"Notsignificant DEGs\")\n",
    "plt.xlabel(\"Log2FoldChange\")\n",
    "plt.ylabel(\"-Log10(padj_value)\")\n",
    "plt.title(\"Volcano Plot: DEGs of Treament_MED25_vs_AAVS1\")\n",
    "plt.legend()\n",
    "plt.show;\n",
    "          "
   ]
  }
 ],
 "metadata": {
  "kernelspec": {
   "display_name": "Python 3 (ipykernel)",
   "language": "python",
   "name": "python3"
  },
  "language_info": {
   "codemirror_mode": {
    "name": "ipython",
    "version": 3
   },
   "file_extension": ".py",
   "mimetype": "text/x-python",
   "name": "python",
   "nbconvert_exporter": "python",
   "pygments_lexer": "ipython3",
   "version": "3.10.11"
  }
 },
 "nbformat": 4,
 "nbformat_minor": 5
}
